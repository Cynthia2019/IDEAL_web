{
 "cells": [
  {
   "cell_type": "code",
   "execution_count": null,
   "id": "dcee33e5",
   "metadata": {
    "pycharm": {
     "name": "#%%\n"
    }
   },
   "outputs": [],
   "source": [
    "import pandas as pd \n",
    "import numpy as np \n",
    "import matplotlib.pyplot as plt"
   ]
  },
  {
   "cell_type": "code",
   "execution_count": null,
   "outputs": [],
   "source": [
    "df = pd.read_csv('data/2D_Pixelated_designs_Static_Combined - Data.csv')"
   ],
   "metadata": {
    "collapsed": false,
    "pycharm": {
     "name": "#%%\n"
    }
   }
  },
  {
   "cell_type": "code",
   "execution_count": null,
   "outputs": [],
   "source": [
    "df.head()"
   ],
   "metadata": {
    "collapsed": false,
    "pycharm": {
     "name": "#%%\n"
    }
   }
  },
  {
   "cell_type": "code",
   "execution_count": null,
   "outputs": [],
   "source": [
    "df.columns"
   ],
   "metadata": {
    "collapsed": false,
    "pycharm": {
     "name": "#%%\n"
    }
   }
  },
  {
   "cell_type": "code",
   "execution_count": null,
   "outputs": [],
   "source": [
    "len(df['geometry_full'][0])"
   ],
   "metadata": {
    "collapsed": false,
    "pycharm": {
     "name": "#%%\n"
    }
   }
  },
  {
   "cell_type": "code",
   "execution_count": null,
   "outputs": [],
   "source": [
    "df.shape"
   ],
   "metadata": {
    "collapsed": false,
    "pycharm": {
     "name": "#%%\n"
    }
   }
  },
  {
   "cell_type": "code",
   "execution_count": null,
   "outputs": [],
   "source": [
    "sub = df.sample(frac = 0.002)\n",
    "sub.to_csv('data/sample.csv')"
   ],
   "metadata": {
    "collapsed": false,
    "pycharm": {
     "name": "#%%\n"
    }
   }
  },
  {
   "cell_type": "code",
   "execution_count": null,
   "outputs": [],
   "source": [
    "sub.shape"
   ],
   "metadata": {
    "collapsed": false,
    "pycharm": {
     "name": "#%%\n"
    }
   }
  },
  {
   "cell_type": "code",
   "execution_count": null,
   "outputs": [],
   "source": [
    "def transform(itr,tmx):\n",
    "    '''\n",
    "    Transform 3D-tensor (Euclidean or Cartesion tensor) of any order (>0) to another coordinate system\n",
    "    Parameters:\n",
    "        itr: input tensor, before transformation; should be a 3-element vector, a 3x3 matrix, or a 3x3x3x... multidimensional array, each dimension containing 3 elements\n",
    "        tmx: transformation matrix, 3x3 matrix that contains the direction cosines between the old and the new coordinate system\n",
    "    Returns:\n",
    "        otr: output tensor, after transformation; has the same dimensions as the input tensor\n",
    "    '''\n",
    "    ne = np.asarray(itr).size\n",
    "    nd = np.asarray(itr).ndim\n",
    "    \n",
    "    if (ne == 3):\n",
    "        nd = 1\n",
    "    \n",
    "    otr = np.zeros_like(itr)\n",
    "    \n",
    "    iie = np.zeros((nd,1))\n",
    "    ioe = np.zeros((nd,1))\n",
    "    cne = np.cumprod(3 * np.ones((nd,1))) / 3\n",
    "    \n",
    "    for oe in range(ne):\n",
    "        ioe = np.mod(np.floor(oe / cne).astype(int), 3)\n",
    "        for ie in range(ne):\n",
    "            pmx = 1\n",
    "            iie = np.mod(np.floor(ie / cne).astype(int), 3)\n",
    "            for i in range(nd):\n",
    "                pmx = pmx * tmx[ioe[i], iie[i]]\n",
    "            otr[np.unravel_index(oe, otr.shape)] = otr[np.unravel_index(oe, otr.shape)] + pmx * itr[np.unravel_index(ie, itr.shape)]\n",
    "    \n",
    "    return otr"
   ],
   "metadata": {
    "collapsed": false,
    "pycharm": {
     "name": "#%%\n"
    }
   }
  },
  {
   "cell_type": "code",
   "execution_count": null,
   "outputs": [],
   "source": [],
   "metadata": {
    "collapsed": false,
    "pycharm": {
     "name": "#%%\n"
    }
   }
  },
  {
   "cell_type": "code",
   "execution_count": null,
   "outputs": [],
   "source": [
    "def visual2D(c): \n",
    "    '''\n",
    "\n",
    "    Parameters\n",
    "    ----------\n",
    "    c : 1D numpy array\n",
    "        [C11, C12, C22, C16, C26, C66].\n",
    "\n",
    "    Returns\n",
    "    -------\n",
    "    None.\n",
    "\n",
    "    '''\n",
    "    # transform c to CH (a 6x6 matrix)\n",
    "    CH = np.ones((6,6)) * 1e-7\n",
    "    CH[0,0] = c[0]\n",
    "    CH[0,1] = c[1]\n",
    "    CH[1,0] = c[1]\n",
    "    CH[1,1] = c[2]\n",
    "    CH[0,5] = c[3]\n",
    "    CH[5,0] = c[3]\n",
    "    CH[1,5] = c[4]\n",
    "    CH[5,1] = c[4]\n",
    "    CH[5,5] = c[5]\n",
    "    # transform CH to a 3*3*3*3 tensor\n",
    "    tensor = generate(CH)\n",
    "    # find the E1 in 360 degree\n",
    "    a = np.arange(0, 2*np.pi+0.02*np.pi, 0.02*np.pi)\n",
    "    E1 = np.zeros_like(a)\n",
    "    P1 = np.zeros_like(a)\n",
    "    print(len(a))\n",
    "    for i in range(len(a)):\n",
    "        trans_z = np.array([[np.cos(a[i]), -np.sin(a[i]), 0],\n",
    "                            [np.sin(a[i]),  np.cos(a[i]), 0],\n",
    "                            [0,             0,            1]])\n",
    "        # calculate the new tensor\n",
    "        N_tensor = transform(tensor, trans_z)\n",
    "        # transform the tensor to 6*6\n",
    "        N_CH = ToMatrix(N_tensor)\n",
    "        # calculate the E1\n",
    "        E, P = modulus(N_CH)\n",
    "        E1[i] = E[0]\n",
    "        P1[i] = P[0,1]\n",
    "    # x,y = pol2cart(a,E1)\n",
    "#     print(E1, P1, E1.shape, P1.shape)\n",
    "    return E1, P1\n",
    "#     # Plot figure\n",
    "#     fig, axs = plt.subplots(1, 2, subplot_kw={'projection': 'polar'})\n",
    "#     axs[0].plot(a, E1)\n",
    "#     axs[0].grid(True)\n",
    "#     axs[0].set_title(\"Young's Modulus\")\n",
    "#     axs[1].plot(a, P1)\n",
    "#     axs[1].grid(True)\n",
    "#     axs[1].set_title(\"Poisson's Ratio\")\n",
    "#     plt.tight_layout()\n",
    "#     plt.show()\n",
    "    \n",
    "    \n",
    "def modulus(CH = None): \n",
    "    S = np.linalg.inv(CH[np.ix_([0,1,3], [0,1,3])])\n",
    "    E = np.zeros((3,1))\n",
    "    P = np.zeros((3,3))\n",
    "    E[0] = 1 / S[0,0]\n",
    "    E[1] = 1 / S[1,1]\n",
    "    E[2] = 1 / S[2,2]\n",
    "    P[0,1] = -S[0,1] * E[1];\n",
    "    P[1,0] = -S[1,0] * E[0];\n",
    "    P[2,1] = -S[1,2] * E[1];\n",
    "    P[1,2] = -S[2,1] * E[2];\n",
    "    return E, P\n",
    "    \n",
    "    \n",
    "def generate(CH = None): \n",
    "    C = np.zeros((3,3,3,3))\n",
    "    for i in range(6):\n",
    "        for j in range(6):\n",
    "            a,b = change(i)\n",
    "            c,d = change(j)\n",
    "            C[a,b,c,d] = CH[i,j]\n",
    "    for i in range(3):\n",
    "        if (i == 2):\n",
    "            j = 0\n",
    "        else:\n",
    "            j = i + 1\n",
    "        for m in range(3):\n",
    "            if (m == 2):\n",
    "                n = 0\n",
    "            else:\n",
    "                n = m + 1\n",
    "            C[j,i,n,m] = C[i,j,m,n]\n",
    "            C[j,i,m,n] = C[i,j,m,n]\n",
    "            C[i,j,n,m] = C[i,j,m,n]\n",
    "            C[j,i,m,m] = C[i,j,m,m]\n",
    "            C[m,m,j,i] = C[m,m,i,j]\n",
    "    return C\n",
    "    \n",
    "    \n",
    "def change(w = None): \n",
    "    # change the index 4 5 6 to 23 31 12\n",
    "    if (w < 3):\n",
    "        a = w\n",
    "        b = w\n",
    "    else:\n",
    "        if (w == 3):\n",
    "            a = 1\n",
    "            b = 2\n",
    "        else:\n",
    "            if (w == 4):\n",
    "                a = 2\n",
    "                b = 0\n",
    "            else:\n",
    "                if (w == 5):\n",
    "                    a = 0\n",
    "                    b = 1\n",
    "    return a,b\n",
    "    \n",
    "    \n",
    "def ToMatrix(C = None): \n",
    "    CH = np.zeros((6,6))\n",
    "    for i in range(6):\n",
    "        for j in range(6):\n",
    "            a,b = change(i)\n",
    "            c,d = change(j)\n",
    "            CH[i,j] = C[a,b,c,d]\n",
    "    return CH"
   ],
   "metadata": {
    "collapsed": false,
    "pycharm": {
     "name": "#%%\n"
    }
   }
  },
  {
   "cell_type": "code",
   "execution_count": null,
   "outputs": [],
   "source": [
    "import time \n",
    "\n",
    "start = time.time() \n",
    "c = np.array([604591262.41, 102330968.98, 1157840534.65, 0.00, 0.00, 156833419.95])\n",
    "visual2D(c)\n",
    "print(time.time() - start)"
   ],
   "metadata": {
    "collapsed": false,
    "pycharm": {
     "name": "#%%\n"
    }
   }
  },
  {
   "cell_type": "code",
   "execution_count": null,
   "outputs": [],
   "source": [
    "small = sub.head(n=3)"
   ],
   "metadata": {
    "collapsed": false,
    "pycharm": {
     "name": "#%%\n"
    }
   }
  },
  {
   "cell_type": "code",
   "execution_count": null,
   "outputs": [],
   "source": [
    "#[C11, C12, C22, C16, C26, C66]\n",
    "start = time.time()\n",
    "res = small.apply(lambda row : visual2D([row['C11'], row[\"C12\"], row['C22'], row['C16'], row['C26'], row['C66']]), axis=1)\n",
    "print(\"Time for computing %d rows: %f\"%(sub.shape[0], time.time() - start))\n"
   ],
   "metadata": {
    "collapsed": false,
    "pycharm": {
     "name": "#%%\n"
    }
   }
  },
  {
   "cell_type": "code",
   "execution_count": null,
   "outputs": [],
   "source": [
    "sub['youngs'] = res.apply(lambda x : x[0])\n",
    "sub['poisson'] = res.apply(lambda x : x[1])"
   ],
   "metadata": {
    "collapsed": false,
    "pycharm": {
     "name": "#%%\n"
    }
   }
  },
  {
   "cell_type": "code",
   "execution_count": null,
   "outputs": [],
   "source": [
    "sub.head()"
   ],
   "metadata": {
    "collapsed": false,
    "pycharm": {
     "name": "#%%\n"
    }
   }
  },
  {
   "cell_type": "code",
   "execution_count": null,
   "outputs": [],
   "source": [
    "sub.to_csv('data/smallsample.csv')"
   ],
   "metadata": {
    "collapsed": false,
    "pycharm": {
     "name": "#%%\n"
    }
   }
  },
  {
   "cell_type": "code",
   "execution_count": null,
   "outputs": [],
   "source": [
    "sub = df.sample(frac = 0.002)\n",
    "sub.to_csv('data/sample.csv')"
   ],
   "metadata": {
    "collapsed": false,
    "pycharm": {
     "name": "#%%\n"
    }
   }
  },
  {
   "cell_type": "code",
   "execution_count": null,
   "outputs": [],
   "source": [
    "sub.shape"
   ],
   "metadata": {
    "collapsed": false,
    "pycharm": {
     "name": "#%%\n"
    }
   }
  },
  {
   "cell_type": "code",
   "execution_count": null,
   "outputs": [],
   "source": [
    "def transform(itr,tmx):\n",
    "    '''\n",
    "    Transform 3D-tensor (Euclidean or Cartesion tensor) of any order (>0) to another coordinate system\n",
    "    Parameters:\n",
    "        itr: input tensor, before transformation; should be a 3-element vector, a 3x3 matrix, or a 3x3x3x... multidimensional array, each dimension containing 3 elements\n",
    "        tmx: transformation matrix, 3x3 matrix that contains the direction cosines between the old and the new coordinate system\n",
    "    Returns:\n",
    "        otr: output tensor, after transformation; has the same dimensions as the input tensor\n",
    "    '''\n",
    "    ne = np.asarray(itr).size\n",
    "    nd = np.asarray(itr).ndim\n",
    "    \n",
    "    if (ne == 3):\n",
    "        nd = 1\n",
    "    \n",
    "    otr = np.zeros_like(itr)\n",
    "    \n",
    "    iie = np.zeros((nd,1))\n",
    "    ioe = np.zeros((nd,1))\n",
    "    cne = np.cumprod(3 * np.ones((nd,1))) / 3\n",
    "    \n",
    "    for oe in range(ne):\n",
    "        ioe = np.mod(np.floor(oe / cne).astype(int), 3)\n",
    "        for ie in range(ne):\n",
    "            pmx = 1\n",
    "            iie = np.mod(np.floor(ie / cne).astype(int), 3)\n",
    "            for i in range(nd):\n",
    "                pmx = pmx * tmx[ioe[i], iie[i]]\n",
    "            otr[np.unravel_index(oe, otr.shape)] = otr[np.unravel_index(oe, otr.shape)] + pmx * itr[np.unravel_index(ie, itr.shape)]\n",
    "    \n",
    "    return otr"
   ],
   "metadata": {
    "collapsed": false,
    "pycharm": {
     "name": "#%%\n"
    }
   }
  },
  {
   "cell_type": "code",
   "execution_count": null,
   "outputs": [],
   "source": [],
   "metadata": {
    "collapsed": false,
    "pycharm": {
     "name": "#%%\n"
    }
   }
  },
  {
   "cell_type": "code",
   "execution_count": null,
   "outputs": [],
   "source": [
    "def visual2D(c): \n",
    "    '''\n",
    "\n",
    "    Parameters\n",
    "    ----------\n",
    "    c : 1D numpy array\n",
    "        [C11, C12, C22, C16, C26, C66].\n",
    "\n",
    "    Returns\n",
    "    -------\n",
    "    None.\n",
    "\n",
    "    '''\n",
    "    # transform c to CH (a 6x6 matrix)\n",
    "    CH = np.ones((6,6)) * 1e-7\n",
    "    CH[0,0] = c[0]\n",
    "    CH[0,1] = c[1]\n",
    "    CH[1,0] = c[1]\n",
    "    CH[1,1] = c[2]\n",
    "    CH[0,5] = c[3]\n",
    "    CH[5,0] = c[3]\n",
    "    CH[1,5] = c[4]\n",
    "    CH[5,1] = c[4]\n",
    "    CH[5,5] = c[5]\n",
    "    # transform CH to a 3*3*3*3 tensor\n",
    "    tensor = generate(CH)\n",
    "    # find the E1 in 360 degree\n",
    "    a = np.arange(0, 2*np.pi+0.02*np.pi, 0.02*np.pi)\n",
    "    E1 = np.zeros_like(a)\n",
    "    P1 = np.zeros_like(a)\n",
    "    print(len(a))\n",
    "    for i in range(len(a)):\n",
    "        trans_z = np.array([[np.cos(a[i]), -np.sin(a[i]), 0],\n",
    "                            [np.sin(a[i]),  np.cos(a[i]), 0],\n",
    "                            [0,             0,            1]])\n",
    "        # calculate the new tensor\n",
    "        N_tensor = transform(tensor, trans_z)\n",
    "        # transform the tensor to 6*6\n",
    "        N_CH = ToMatrix(N_tensor)\n",
    "        # calculate the E1\n",
    "        E, P = modulus(N_CH)\n",
    "        E1[i] = E[0]\n",
    "        P1[i] = P[0,1]\n",
    "    # x,y = pol2cart(a,E1)\n",
    "#     print(E1, P1, E1.shape, P1.shape)\n",
    "    return E1, P1\n",
    "#     # Plot figure\n",
    "#     fig, axs = plt.subplots(1, 2, subplot_kw={'projection': 'polar'})\n",
    "#     axs[0].plot(a, E1)\n",
    "#     axs[0].grid(True)\n",
    "#     axs[0].set_title(\"Young's Modulus\")\n",
    "#     axs[1].plot(a, P1)\n",
    "#     axs[1].grid(True)\n",
    "#     axs[1].set_title(\"Poisson's Ratio\")\n",
    "#     plt.tight_layout()\n",
    "#     plt.show()\n",
    "    \n",
    "    \n",
    "def modulus(CH = None): \n",
    "    S = np.linalg.inv(CH[np.ix_([0,1,3], [0,1,3])])\n",
    "    E = np.zeros((3,1))\n",
    "    P = np.zeros((3,3))\n",
    "    E[0] = 1 / S[0,0]\n",
    "    E[1] = 1 / S[1,1]\n",
    "    E[2] = 1 / S[2,2]\n",
    "    P[0,1] = -S[0,1] * E[1];\n",
    "    P[1,0] = -S[1,0] * E[0];\n",
    "    P[2,1] = -S[1,2] * E[1];\n",
    "    P[1,2] = -S[2,1] * E[2];\n",
    "    return E, P\n",
    "    \n",
    "    \n",
    "def generate(CH = None): \n",
    "    C = np.zeros((3,3,3,3))\n",
    "    for i in range(6):\n",
    "        for j in range(6):\n",
    "            a,b = change(i)\n",
    "            c,d = change(j)\n",
    "            C[a,b,c,d] = CH[i,j]\n",
    "    for i in range(3):\n",
    "        if (i == 2):\n",
    "            j = 0\n",
    "        else:\n",
    "            j = i + 1\n",
    "        for m in range(3):\n",
    "            if (m == 2):\n",
    "                n = 0\n",
    "            else:\n",
    "                n = m + 1\n",
    "            C[j,i,n,m] = C[i,j,m,n]\n",
    "            C[j,i,m,n] = C[i,j,m,n]\n",
    "            C[i,j,n,m] = C[i,j,m,n]\n",
    "            C[j,i,m,m] = C[i,j,m,m]\n",
    "            C[m,m,j,i] = C[m,m,i,j]\n",
    "    return C\n",
    "    \n",
    "    \n",
    "def change(w = None): \n",
    "    # change the index 4 5 6 to 23 31 12\n",
    "    if (w < 3):\n",
    "        a = w\n",
    "        b = w\n",
    "    else:\n",
    "        if (w == 3):\n",
    "            a = 1\n",
    "            b = 2\n",
    "        else:\n",
    "            if (w == 4):\n",
    "                a = 2\n",
    "                b = 0\n",
    "            else:\n",
    "                if (w == 5):\n",
    "                    a = 0\n",
    "                    b = 1\n",
    "    return a,b\n",
    "    \n",
    "    \n",
    "def ToMatrix(C = None): \n",
    "    CH = np.zeros((6,6))\n",
    "    for i in range(6):\n",
    "        for j in range(6):\n",
    "            a,b = change(i)\n",
    "            c,d = change(j)\n",
    "            CH[i,j] = C[a,b,c,d]\n",
    "    return CH"
   ],
   "metadata": {
    "collapsed": false,
    "pycharm": {
     "name": "#%%\n"
    }
   }
  },
  {
   "cell_type": "code",
   "execution_count": null,
   "outputs": [],
   "source": [
    "import time \n",
    "\n",
    "start = time.time() \n",
    "c = np.array([604591262.41, 102330968.98, 1157840534.65, 0.00, 0.00, 156833419.95])\n",
    "visual2D(c)\n",
    "print(time.time() - start)"
   ],
   "metadata": {
    "collapsed": false,
    "pycharm": {
     "name": "#%%\n"
    }
   }
  },
  {
   "cell_type": "code",
   "execution_count": null,
   "outputs": [],
   "source": [
    "small = sub.head(n=3)"
   ],
   "metadata": {
    "collapsed": false,
    "pycharm": {
     "name": "#%%\n"
    }
   }
  },
  {
   "cell_type": "code",
   "execution_count": null,
   "outputs": [],
   "source": [
    "#[C11, C12, C22, C16, C26, C66]\n",
    "start = time.time()\n",
    "res = small.apply(lambda row : visual2D([row['C11'], row[\"C12\"], row['C22'], row['C16'], row['C26'], row['C66']]), axis=1)\n",
    "print(\"Time for computing %d rows: %f\"%(sub.shape[0], time.time() - start))\n"
   ],
   "metadata": {
    "collapsed": false,
    "pycharm": {
     "name": "#%%\n"
    }
   }
  },
  {
   "cell_type": "code",
   "execution_count": null,
   "outputs": [],
   "source": [
    "sub['youngs'] = res.apply(lambda x : x[0])\n",
    "sub['poisson'] = res.apply(lambda x : x[1])"
   ],
   "metadata": {
    "collapsed": false,
    "pycharm": {
     "name": "#%%\n"
    }
   }
  },
  {
   "cell_type": "code",
   "execution_count": null,
   "outputs": [],
   "source": [
    "sub.head()"
   ],
   "metadata": {
    "collapsed": false,
    "pycharm": {
     "name": "#%%\n"
    }
   }
  },
  {
   "cell_type": "code",
   "execution_count": null,
   "outputs": [],
   "source": [
    "sub.to_csv('data/smallsample2.csv')"
   ],
   "metadata": {
    "collapsed": false,
    "pycharm": {
     "name": "#%%\n"
    }
   }
  },
  {
   "cell_type": "code",
   "execution_count": null,
   "outputs": [],
   "source": [
    "sub = df.sample(frac = 0.002)\n",
    "sub.to_csv('data/sample.csv')"
   ],
   "metadata": {
    "collapsed": false,
    "pycharm": {
     "name": "#%%\n"
    }
   }
  },
  {
   "cell_type": "code",
   "execution_count": null,
   "outputs": [],
   "source": [
    "sub.shape"
   ],
   "metadata": {
    "collapsed": false,
    "pycharm": {
     "name": "#%%\n"
    }
   }
  },
  {
   "cell_type": "code",
   "execution_count": null,
   "outputs": [],
   "source": [
    "def transform(itr,tmx):\n",
    "    '''\n",
    "    Transform 3D-tensor (Euclidean or Cartesion tensor) of any order (>0) to another coordinate system\n",
    "    Parameters:\n",
    "        itr: input tensor, before transformation; should be a 3-element vector, a 3x3 matrix, or a 3x3x3x... multidimensional array, each dimension containing 3 elements\n",
    "        tmx: transformation matrix, 3x3 matrix that contains the direction cosines between the old and the new coordinate system\n",
    "    Returns:\n",
    "        otr: output tensor, after transformation; has the same dimensions as the input tensor\n",
    "    '''\n",
    "    ne = np.asarray(itr).size\n",
    "    nd = np.asarray(itr).ndim\n",
    "    \n",
    "    if (ne == 3):\n",
    "        nd = 1\n",
    "    \n",
    "    otr = np.zeros_like(itr)\n",
    "    \n",
    "    iie = np.zeros((nd,1))\n",
    "    ioe = np.zeros((nd,1))\n",
    "    cne = np.cumprod(3 * np.ones((nd,1))) / 3\n",
    "    \n",
    "    for oe in range(ne):\n",
    "        ioe = np.mod(np.floor(oe / cne).astype(int), 3)\n",
    "        for ie in range(ne):\n",
    "            pmx = 1\n",
    "            iie = np.mod(np.floor(ie / cne).astype(int), 3)\n",
    "            for i in range(nd):\n",
    "                pmx = pmx * tmx[ioe[i], iie[i]]\n",
    "            otr[np.unravel_index(oe, otr.shape)] = otr[np.unravel_index(oe, otr.shape)] + pmx * itr[np.unravel_index(ie, itr.shape)]\n",
    "    \n",
    "    return otr"
   ],
   "metadata": {
    "collapsed": false,
    "pycharm": {
     "name": "#%%\n"
    }
   }
  },
  {
   "cell_type": "code",
   "execution_count": null,
   "outputs": [],
   "source": [],
   "metadata": {
    "collapsed": false,
    "pycharm": {
     "name": "#%%\n"
    }
   }
  },
  {
   "cell_type": "code",
   "execution_count": null,
   "outputs": [],
   "source": [
    "def visual2D(c): \n",
    "    '''\n",
    "\n",
    "    Parameters\n",
    "    ----------\n",
    "    c : 1D numpy array\n",
    "        [C11, C12, C22, C16, C26, C66].\n",
    "\n",
    "    Returns\n",
    "    -------\n",
    "    None.\n",
    "\n",
    "    '''\n",
    "    # transform c to CH (a 6x6 matrix)\n",
    "    CH = np.ones((6,6)) * 1e-7\n",
    "    CH[0,0] = c[0]\n",
    "    CH[0,1] = c[1]\n",
    "    CH[1,0] = c[1]\n",
    "    CH[1,1] = c[2]\n",
    "    CH[0,5] = c[3]\n",
    "    CH[5,0] = c[3]\n",
    "    CH[1,5] = c[4]\n",
    "    CH[5,1] = c[4]\n",
    "    CH[5,5] = c[5]\n",
    "    # transform CH to a 3*3*3*3 tensor\n",
    "    tensor = generate(CH)\n",
    "    # find the E1 in 360 degree\n",
    "    a = np.arange(0, 2*np.pi+0.02*np.pi, 0.02*np.pi)\n",
    "    E1 = np.zeros_like(a)\n",
    "    P1 = np.zeros_like(a)\n",
    "    print(len(a))\n",
    "    for i in range(len(a)):\n",
    "        trans_z = np.array([[np.cos(a[i]), -np.sin(a[i]), 0],\n",
    "                            [np.sin(a[i]),  np.cos(a[i]), 0],\n",
    "                            [0,             0,            1]])\n",
    "        # calculate the new tensor\n",
    "        N_tensor = transform(tensor, trans_z)\n",
    "        # transform the tensor to 6*6\n",
    "        N_CH = ToMatrix(N_tensor)\n",
    "        # calculate the E1\n",
    "        E, P = modulus(N_CH)\n",
    "        E1[i] = E[0]\n",
    "        P1[i] = P[0,1]\n",
    "    # x,y = pol2cart(a,E1)\n",
    "#     print(E1, P1, E1.shape, P1.shape)\n",
    "    return E1, P1\n",
    "#     # Plot figure\n",
    "#     fig, axs = plt.subplots(1, 2, subplot_kw={'projection': 'polar'})\n",
    "#     axs[0].plot(a, E1)\n",
    "#     axs[0].grid(True)\n",
    "#     axs[0].set_title(\"Young's Modulus\")\n",
    "#     axs[1].plot(a, P1)\n",
    "#     axs[1].grid(True)\n",
    "#     axs[1].set_title(\"Poisson's Ratio\")\n",
    "#     plt.tight_layout()\n",
    "#     plt.show()\n",
    "    \n",
    "    \n",
    "def modulus(CH = None): \n",
    "    S = np.linalg.inv(CH[np.ix_([0,1,3], [0,1,3])])\n",
    "    E = np.zeros((3,1))\n",
    "    P = np.zeros((3,3))\n",
    "    E[0] = 1 / S[0,0]\n",
    "    E[1] = 1 / S[1,1]\n",
    "    E[2] = 1 / S[2,2]\n",
    "    P[0,1] = -S[0,1] * E[1];\n",
    "    P[1,0] = -S[1,0] * E[0];\n",
    "    P[2,1] = -S[1,2] * E[1];\n",
    "    P[1,2] = -S[2,1] * E[2];\n",
    "    return E, P\n",
    "    \n",
    "    \n",
    "def generate(CH = None): \n",
    "    C = np.zeros((3,3,3,3))\n",
    "    for i in range(6):\n",
    "        for j in range(6):\n",
    "            a,b = change(i)\n",
    "            c,d = change(j)\n",
    "            C[a,b,c,d] = CH[i,j]\n",
    "    for i in range(3):\n",
    "        if (i == 2):\n",
    "            j = 0\n",
    "        else:\n",
    "            j = i + 1\n",
    "        for m in range(3):\n",
    "            if (m == 2):\n",
    "                n = 0\n",
    "            else:\n",
    "                n = m + 1\n",
    "            C[j,i,n,m] = C[i,j,m,n]\n",
    "            C[j,i,m,n] = C[i,j,m,n]\n",
    "            C[i,j,n,m] = C[i,j,m,n]\n",
    "            C[j,i,m,m] = C[i,j,m,m]\n",
    "            C[m,m,j,i] = C[m,m,i,j]\n",
    "    return C\n",
    "    \n",
    "    \n",
    "def change(w = None): \n",
    "    # change the index 4 5 6 to 23 31 12\n",
    "    if (w < 3):\n",
    "        a = w\n",
    "        b = w\n",
    "    else:\n",
    "        if (w == 3):\n",
    "            a = 1\n",
    "            b = 2\n",
    "        else:\n",
    "            if (w == 4):\n",
    "                a = 2\n",
    "                b = 0\n",
    "            else:\n",
    "                if (w == 5):\n",
    "                    a = 0\n",
    "                    b = 1\n",
    "    return a,b\n",
    "    \n",
    "    \n",
    "def ToMatrix(C = None): \n",
    "    CH = np.zeros((6,6))\n",
    "    for i in range(6):\n",
    "        for j in range(6):\n",
    "            a,b = change(i)\n",
    "            c,d = change(j)\n",
    "            CH[i,j] = C[a,b,c,d]\n",
    "    return CH"
   ],
   "metadata": {
    "collapsed": false,
    "pycharm": {
     "name": "#%%\n"
    }
   }
  },
  {
   "cell_type": "code",
   "execution_count": null,
   "outputs": [],
   "source": [
    "import time \n",
    "\n",
    "start = time.time() \n",
    "c = np.array([604591262.41, 102330968.98, 1157840534.65, 0.00, 0.00, 156833419.95])\n",
    "visual2D(c)\n",
    "print(time.time() - start)"
   ],
   "metadata": {
    "collapsed": false,
    "pycharm": {
     "name": "#%%\n"
    }
   }
  },
  {
   "cell_type": "code",
   "execution_count": null,
   "outputs": [],
   "source": [
    "small = sub.head(n=3)"
   ],
   "metadata": {
    "collapsed": false,
    "pycharm": {
     "name": "#%%\n"
    }
   }
  },
  {
   "cell_type": "code",
   "execution_count": null,
   "outputs": [],
   "source": [
    "#[C11, C12, C22, C16, C26, C66]\n",
    "start = time.time()\n",
    "res = small.apply(lambda row : visual2D([row['C11'], row[\"C12\"], row['C22'], row['C16'], row['C26'], row['C66']]), axis=1)\n",
    "print(\"Time for computing %d rows: %f\"%(sub.shape[0], time.time() - start))\n"
   ],
   "metadata": {
    "collapsed": false,
    "pycharm": {
     "name": "#%%\n"
    }
   }
  },
  {
   "cell_type": "code",
   "execution_count": null,
   "outputs": [],
   "source": [
    "sub['youngs'] = res.apply(lambda x : x[0])\n",
    "sub['poisson'] = res.apply(lambda x : x[1])"
   ],
   "metadata": {
    "collapsed": false,
    "pycharm": {
     "name": "#%%\n"
    }
   }
  },
  {
   "cell_type": "code",
   "execution_count": null,
   "outputs": [],
   "source": [
    "sub.head()"
   ],
   "metadata": {
    "collapsed": false,
    "pycharm": {
     "name": "#%%\n"
    }
   }
  },
  {
   "cell_type": "code",
   "execution_count": null,
   "outputs": [],
   "source": [
    "sub.to_csv('data/smallsample2.csv')"
   ],
   "metadata": {
    "collapsed": false,
    "pycharm": {
     "name": "#%%\n"
    }
   }
  },
  {
   "cell_type": "code",
   "execution_count": null,
   "outputs": [],
   "source": [],
   "metadata": {
    "collapsed": false,
    "pycharm": {
     "name": "#%%\n"
    }
   }
  },
  {
   "cell_type": "code",
   "execution_count": 64,
   "id": "37003b32",
   "metadata": {
    "pycharm": {
     "name": "#%%\n"
    }
   },
   "outputs": [
    {
     "data": {
      "text/plain": [
       "(158, 26)"
      ]
     },
     "execution_count": 64,
     "metadata": {},
     "output_type": "execute_result"
    }
   ],
   "source": [
    "sub.shape"
   ]
  },
  {
   "cell_type": "code",
   "execution_count": 65,
   "id": "4169a177",
   "metadata": {
    "pycharm": {
     "name": "#%%\n"
    }
   },
   "outputs": [],
   "source": [
    "def transform(itr,tmx):\n",
    "    '''\n",
    "    Transform 3D-tensor (Euclidean or Cartesion tensor) of any order (>0) to another coordinate system\n",
    "    Parameters:\n",
    "        itr: input tensor, before transformation; should be a 3-element vector, a 3x3 matrix, or a 3x3x3x... multidimensional array, each dimension containing 3 elements\n",
    "        tmx: transformation matrix, 3x3 matrix that contains the direction cosines between the old and the new coordinate system\n",
    "    Returns:\n",
    "        otr: output tensor, after transformation; has the same dimensions as the input tensor\n",
    "    '''\n",
    "    ne = np.asarray(itr).size\n",
    "    nd = np.asarray(itr).ndim\n",
    "    \n",
    "    if (ne == 3):\n",
    "        nd = 1\n",
    "    \n",
    "    otr = np.zeros_like(itr)\n",
    "    \n",
    "    iie = np.zeros((nd,1))\n",
    "    ioe = np.zeros((nd,1))\n",
    "    cne = np.cumprod(3 * np.ones((nd,1))) / 3\n",
    "    \n",
    "    for oe in range(ne):\n",
    "        ioe = np.mod(np.floor(oe / cne).astype(int), 3)\n",
    "        for ie in range(ne):\n",
    "            pmx = 1\n",
    "            iie = np.mod(np.floor(ie / cne).astype(int), 3)\n",
    "            for i in range(nd):\n",
    "                pmx = pmx * tmx[ioe[i], iie[i]]\n",
    "            otr[np.unravel_index(oe, otr.shape)] = otr[np.unravel_index(oe, otr.shape)] + pmx * itr[np.unravel_index(ie, itr.shape)]\n",
    "    \n",
    "    return otr"
   ]
  },
  {
   "cell_type": "code",
   "execution_count": null,
   "id": "bcf7bd43",
   "metadata": {
    "pycharm": {
     "name": "#%%\n"
    }
   },
   "outputs": [],
   "source": []
  },
  {
   "cell_type": "code",
   "execution_count": 66,
   "id": "09e2795c",
   "metadata": {
    "pycharm": {
     "name": "#%%\n"
    }
   },
   "outputs": [],
   "source": [
    "def visual2D(c): \n",
    "    '''\n",
    "\n",
    "    Parameters\n",
    "    ----------\n",
    "    c : 1D numpy array\n",
    "        [C11, C12, C22, C16, C26, C66].\n",
    "\n",
    "    Returns\n",
    "    -------\n",
    "    None.\n",
    "\n",
    "    '''\n",
    "    # transform c to CH (a 6x6 matrix)\n",
    "    CH = np.ones((6,6)) * 1e-7\n",
    "    CH[0,0] = c[0]\n",
    "    CH[0,1] = c[1]\n",
    "    CH[1,0] = c[1]\n",
    "    CH[1,1] = c[2]\n",
    "    CH[0,5] = c[3]\n",
    "    CH[5,0] = c[3]\n",
    "    CH[1,5] = c[4]\n",
    "    CH[5,1] = c[4]\n",
    "    CH[5,5] = c[5]\n",
    "    # transform CH to a 3*3*3*3 tensor\n",
    "    tensor = generate(CH)\n",
    "    # find the E1 in 360 degree\n",
    "    a = np.arange(0, 2*np.pi+0.02*np.pi, 0.02*np.pi)\n",
    "    E1 = np.zeros_like(a)\n",
    "    P1 = np.zeros_like(a)\n",
    "    print(len(a))\n",
    "    for i in range(len(a)):\n",
    "        trans_z = np.array([[np.cos(a[i]), -np.sin(a[i]), 0],\n",
    "                            [np.sin(a[i]),  np.cos(a[i]), 0],\n",
    "                            [0,             0,            1]])\n",
    "        # calculate the new tensor\n",
    "        N_tensor = transform(tensor, trans_z)\n",
    "        # transform the tensor to 6*6\n",
    "        N_CH = ToMatrix(N_tensor)\n",
    "        # calculate the E1\n",
    "        E, P = modulus(N_CH)\n",
    "        E1[i] = E[0]\n",
    "        P1[i] = P[0,1]\n",
    "    # x,y = pol2cart(a,E1)\n",
    "#     print(E1, P1, E1.shape, P1.shape)\n",
    "    return E1, P1\n",
    "#     # Plot figure\n",
    "#     fig, axs = plt.subplots(1, 2, subplot_kw={'projection': 'polar'})\n",
    "#     axs[0].plot(a, E1)\n",
    "#     axs[0].grid(True)\n",
    "#     axs[0].set_title(\"Young's Modulus\")\n",
    "#     axs[1].plot(a, P1)\n",
    "#     axs[1].grid(True)\n",
    "#     axs[1].set_title(\"Poisson's Ratio\")\n",
    "#     plt.tight_layout()\n",
    "#     plt.show()\n",
    "    \n",
    "    \n",
    "def modulus(CH = None): \n",
    "    S = np.linalg.inv(CH[np.ix_([0,1,3], [0,1,3])])\n",
    "    E = np.zeros((3,1))\n",
    "    P = np.zeros((3,3))\n",
    "    E[0] = 1 / S[0,0]\n",
    "    E[1] = 1 / S[1,1]\n",
    "    E[2] = 1 / S[2,2]\n",
    "    P[0,1] = -S[0,1] * E[1];\n",
    "    P[1,0] = -S[1,0] * E[0];\n",
    "    P[2,1] = -S[1,2] * E[1];\n",
    "    P[1,2] = -S[2,1] * E[2];\n",
    "    return E, P\n",
    "    \n",
    "    \n",
    "def generate(CH = None): \n",
    "    C = np.zeros((3,3,3,3))\n",
    "    for i in range(6):\n",
    "        for j in range(6):\n",
    "            a,b = change(i)\n",
    "            c,d = change(j)\n",
    "            C[a,b,c,d] = CH[i,j]\n",
    "    for i in range(3):\n",
    "        if (i == 2):\n",
    "            j = 0\n",
    "        else:\n",
    "            j = i + 1\n",
    "        for m in range(3):\n",
    "            if (m == 2):\n",
    "                n = 0\n",
    "            else:\n",
    "                n = m + 1\n",
    "            C[j,i,n,m] = C[i,j,m,n]\n",
    "            C[j,i,m,n] = C[i,j,m,n]\n",
    "            C[i,j,n,m] = C[i,j,m,n]\n",
    "            C[j,i,m,m] = C[i,j,m,m]\n",
    "            C[m,m,j,i] = C[m,m,i,j]\n",
    "    return C\n",
    "    \n",
    "    \n",
    "def change(w = None): \n",
    "    # change the index 4 5 6 to 23 31 12\n",
    "    if (w < 3):\n",
    "        a = w\n",
    "        b = w\n",
    "    else:\n",
    "        if (w == 3):\n",
    "            a = 1\n",
    "            b = 2\n",
    "        else:\n",
    "            if (w == 4):\n",
    "                a = 2\n",
    "                b = 0\n",
    "            else:\n",
    "                if (w == 5):\n",
    "                    a = 0\n",
    "                    b = 1\n",
    "    return a,b\n",
    "    \n",
    "    \n",
    "def ToMatrix(C = None): \n",
    "    CH = np.zeros((6,6))\n",
    "    for i in range(6):\n",
    "        for j in range(6):\n",
    "            a,b = change(i)\n",
    "            c,d = change(j)\n",
    "            CH[i,j] = C[a,b,c,d]\n",
    "    return CH"
   ]
  },
  {
   "cell_type": "code",
   "execution_count": 67,
   "id": "62fdddc2",
   "metadata": {
    "pycharm": {
     "name": "#%%\n"
    }
   },
   "outputs": [
    {
     "name": "stdout",
     "output_type": "stream",
     "text": [
      "101\n",
      "8.684705018997192\n"
     ]
    }
   ],
   "source": [
    "import time \n",
    "\n",
    "start = time.time() \n",
    "c = np.array([604591262.41, 102330968.98, 1157840534.65, 0.00, 0.00, 156833419.95])\n",
    "visual2D(c)\n",
    "print(time.time() - start)"
   ]
  },
  {
   "cell_type": "code",
   "execution_count": 68,
   "id": "b7d6d730",
   "metadata": {
    "pycharm": {
     "name": "#%%\n"
    }
   },
   "outputs": [],
   "source": [
    "small = sub.head(n=3)"
   ]
  },
  {
   "cell_type": "code",
   "execution_count": 69,
   "id": "8438e35a",
   "metadata": {
    "pycharm": {
     "name": "#%%\n"
    }
   },
   "outputs": [
    {
     "name": "stdout",
     "output_type": "stream",
     "text": [
      "101\n",
      "101\n",
      "101\n",
      "Time for computing 158 rows: 25.684371\n"
     ]
    }
   ],
   "source": [
    "#[C11, C12, C22, C16, C26, C66]\n",
    "start = time.time()\n",
    "res = small.apply(lambda row : visual2D([row['C11'], row[\"C12\"], row['C22'], row['C16'], row['C26'], row['C66']]), axis=1)\n",
    "print(\"Time for computing %d rows: %f\"%(sub.shape[0], time.time() - start))\n"
   ]
  },
  {
   "cell_type": "code",
   "execution_count": 70,
   "id": "0908159c",
   "metadata": {
    "pycharm": {
     "name": "#%%\n"
    }
   },
   "outputs": [],
   "source": [
    "sub['youngs'] = res.apply(lambda x : x[0])\n",
    "sub['poisson'] = res.apply(lambda x : x[1])"
   ]
  },
  {
   "cell_type": "code",
   "execution_count": 71,
   "id": "c71c5920",
   "metadata": {
    "pycharm": {
     "name": "#%%\n"
    }
   },
   "outputs": [
    {
     "data": {
      "text/html": [
       "<div>\n",
       "<style scoped>\n",
       "    .dataframe tbody tr th:only-of-type {\n",
       "        vertical-align: middle;\n",
       "    }\n",
       "\n",
       "    .dataframe tbody tr th {\n",
       "        vertical-align: top;\n",
       "    }\n",
       "\n",
       "    .dataframe thead th {\n",
       "        text-align: right;\n",
       "    }\n",
       "</style>\n",
       "<table border=\"1\" class=\"dataframe\">\n",
       "  <thead>\n",
       "    <tr style=\"text-align: right;\">\n",
       "      <th></th>\n",
       "      <th>symmetry</th>\n",
       "      <th>unit_cell_x_pixels</th>\n",
       "      <th>unit_cell_y_pixels</th>\n",
       "      <th>geometry_condensed</th>\n",
       "      <th>geometry_full</th>\n",
       "      <th>condition</th>\n",
       "      <th>C11</th>\n",
       "      <th>C12</th>\n",
       "      <th>C22</th>\n",
       "      <th>C16</th>\n",
       "      <th>...</th>\n",
       "      <th>CM0_C66</th>\n",
       "      <th>CM1</th>\n",
       "      <th>CM1_C11</th>\n",
       "      <th>CM1_C12</th>\n",
       "      <th>CM1_C22</th>\n",
       "      <th>CM1_C16</th>\n",
       "      <th>CM1_C26</th>\n",
       "      <th>CM1_C66</th>\n",
       "      <th>youngs</th>\n",
       "      <th>poisson</th>\n",
       "    </tr>\n",
       "  </thead>\n",
       "  <tbody>\n",
       "    <tr>\n",
       "      <th>54099</th>\n",
       "      <td>C2v</td>\n",
       "      <td>50</td>\n",
       "      <td>50</td>\n",
       "      <td>NaN</td>\n",
       "      <td>0000000000000000000111111111111000000000000000...</td>\n",
       "      <td>Plane Strain</td>\n",
       "      <td>6.180045e+08</td>\n",
       "      <td>111902107.9</td>\n",
       "      <td>7.405735e+08</td>\n",
       "      <td>0</td>\n",
       "      <td>...</td>\n",
       "      <td>0</td>\n",
       "      <td>vero_white</td>\n",
       "      <td>2963290579</td>\n",
       "      <td>1459531181</td>\n",
       "      <td>2963290579</td>\n",
       "      <td>0</td>\n",
       "      <td>0</td>\n",
       "      <td>751879699</td>\n",
       "      <td>[601095866.8599133, 596686054.5589361, 5834598...</td>\n",
       "      <td>[0.18107005482437127, 0.18796926662730962, 0.2...</td>\n",
       "    </tr>\n",
       "    <tr>\n",
       "      <th>34368</th>\n",
       "      <td>C2v</td>\n",
       "      <td>50</td>\n",
       "      <td>50</td>\n",
       "      <td>NaN</td>\n",
       "      <td>0000000000001111111111111111111111111100000000...</td>\n",
       "      <td>Plane Strain</td>\n",
       "      <td>6.693100e+08</td>\n",
       "      <td>202799631.2</td>\n",
       "      <td>1.241218e+09</td>\n",
       "      <td>0</td>\n",
       "      <td>...</td>\n",
       "      <td>0</td>\n",
       "      <td>vero_white</td>\n",
       "      <td>2963290579</td>\n",
       "      <td>1459531181</td>\n",
       "      <td>2963290579</td>\n",
       "      <td>0</td>\n",
       "      <td>0</td>\n",
       "      <td>751879699</td>\n",
       "      <td>[636175026.970261, 634783694.2489499, 63068740...</td>\n",
       "      <td>[0.3029980692272017, 0.3071238199050367, 0.319...</td>\n",
       "    </tr>\n",
       "    <tr>\n",
       "      <th>1916</th>\n",
       "      <td>C2v</td>\n",
       "      <td>50</td>\n",
       "      <td>50</td>\n",
       "      <td>NaN</td>\n",
       "      <td>1111111111111111111111111111111111111111111111...</td>\n",
       "      <td>Plane Strain</td>\n",
       "      <td>1.755271e+09</td>\n",
       "      <td>588758063.8</td>\n",
       "      <td>1.928755e+09</td>\n",
       "      <td>0</td>\n",
       "      <td>...</td>\n",
       "      <td>0</td>\n",
       "      <td>vero_white</td>\n",
       "      <td>2963290579</td>\n",
       "      <td>1459531181</td>\n",
       "      <td>2963290579</td>\n",
       "      <td>0</td>\n",
       "      <td>0</td>\n",
       "      <td>751879699</td>\n",
       "      <td>[1575550905.0605085, 1575498386.3415282, 15753...</td>\n",
       "      <td>[0.33542287526379944, 0.33559245605619203, 0.3...</td>\n",
       "    </tr>\n",
       "    <tr>\n",
       "      <th>46212</th>\n",
       "      <td>C2v</td>\n",
       "      <td>50</td>\n",
       "      <td>50</td>\n",
       "      <td>NaN</td>\n",
       "      <td>1111111111111111111111111111111111111111111111...</td>\n",
       "      <td>Plane Strain</td>\n",
       "      <td>5.173402e+08</td>\n",
       "      <td>156942733.7</td>\n",
       "      <td>1.236537e+09</td>\n",
       "      <td>0</td>\n",
       "      <td>...</td>\n",
       "      <td>0</td>\n",
       "      <td>vero_white</td>\n",
       "      <td>2963290579</td>\n",
       "      <td>1459531181</td>\n",
       "      <td>2963290579</td>\n",
       "      <td>0</td>\n",
       "      <td>0</td>\n",
       "      <td>751879699</td>\n",
       "      <td>NaN</td>\n",
       "      <td>NaN</td>\n",
       "    </tr>\n",
       "    <tr>\n",
       "      <th>65912</th>\n",
       "      <td>C2v</td>\n",
       "      <td>50</td>\n",
       "      <td>50</td>\n",
       "      <td>NaN</td>\n",
       "      <td>1111111111111111111111111111111111111111111111...</td>\n",
       "      <td>Plane Strain</td>\n",
       "      <td>7.444451e+08</td>\n",
       "      <td>160455366.8</td>\n",
       "      <td>9.518284e+08</td>\n",
       "      <td>0</td>\n",
       "      <td>...</td>\n",
       "      <td>0</td>\n",
       "      <td>vero_white</td>\n",
       "      <td>2963290579</td>\n",
       "      <td>1459531181</td>\n",
       "      <td>2963290579</td>\n",
       "      <td>0</td>\n",
       "      <td>0</td>\n",
       "      <td>751879699</td>\n",
       "      <td>NaN</td>\n",
       "      <td>NaN</td>\n",
       "    </tr>\n",
       "  </tbody>\n",
       "</table>\n",
       "<p>5 rows × 28 columns</p>\n",
       "</div>"
      ],
      "text/plain": [
       "      symmetry  unit_cell_x_pixels  unit_cell_y_pixels  geometry_condensed  \\\n",
       "54099      C2v                  50                  50                 NaN   \n",
       "34368      C2v                  50                  50                 NaN   \n",
       "1916       C2v                  50                  50                 NaN   \n",
       "46212      C2v                  50                  50                 NaN   \n",
       "65912      C2v                  50                  50                 NaN   \n",
       "\n",
       "                                           geometry_full     condition  \\\n",
       "54099  0000000000000000000111111111111000000000000000...  Plane Strain   \n",
       "34368  0000000000001111111111111111111111111100000000...  Plane Strain   \n",
       "1916   1111111111111111111111111111111111111111111111...  Plane Strain   \n",
       "46212  1111111111111111111111111111111111111111111111...  Plane Strain   \n",
       "65912  1111111111111111111111111111111111111111111111...  Plane Strain   \n",
       "\n",
       "                C11          C12           C22  C16  ...  CM0_C66         CM1  \\\n",
       "54099  6.180045e+08  111902107.9  7.405735e+08    0  ...        0  vero_white   \n",
       "34368  6.693100e+08  202799631.2  1.241218e+09    0  ...        0  vero_white   \n",
       "1916   1.755271e+09  588758063.8  1.928755e+09    0  ...        0  vero_white   \n",
       "46212  5.173402e+08  156942733.7  1.236537e+09    0  ...        0  vero_white   \n",
       "65912  7.444451e+08  160455366.8  9.518284e+08    0  ...        0  vero_white   \n",
       "\n",
       "          CM1_C11     CM1_C12     CM1_C22  CM1_C16  CM1_C26    CM1_C66  \\\n",
       "54099  2963290579  1459531181  2963290579        0        0  751879699   \n",
       "34368  2963290579  1459531181  2963290579        0        0  751879699   \n",
       "1916   2963290579  1459531181  2963290579        0        0  751879699   \n",
       "46212  2963290579  1459531181  2963290579        0        0  751879699   \n",
       "65912  2963290579  1459531181  2963290579        0        0  751879699   \n",
       "\n",
       "                                                  youngs  \\\n",
       "54099  [601095866.8599133, 596686054.5589361, 5834598...   \n",
       "34368  [636175026.970261, 634783694.2489499, 63068740...   \n",
       "1916   [1575550905.0605085, 1575498386.3415282, 15753...   \n",
       "46212                                                NaN   \n",
       "65912                                                NaN   \n",
       "\n",
       "                                                 poisson  \n",
       "54099  [0.18107005482437127, 0.18796926662730962, 0.2...  \n",
       "34368  [0.3029980692272017, 0.3071238199050367, 0.319...  \n",
       "1916   [0.33542287526379944, 0.33559245605619203, 0.3...  \n",
       "46212                                                NaN  \n",
       "65912                                                NaN  \n",
       "\n",
       "[5 rows x 28 columns]"
      ]
     },
     "execution_count": 71,
     "metadata": {},
     "output_type": "execute_result"
    }
   ],
   "source": [
    "sub.head()"
   ]
  },
  {
   "cell_type": "code",
   "execution_count": 72,
   "id": "1c449d32",
   "metadata": {
    "pycharm": {
     "name": "#%%\n"
    }
   },
   "outputs": [],
   "source": [
    "sub.to_csv('data/smallsample2.csv')"
   ]
  },
  {
   "cell_type": "code",
   "execution_count": null,
   "id": "02ca42f6",
   "metadata": {
    "pycharm": {
     "name": "#%%\n"
    }
   },
   "outputs": [],
   "source": []
  }
 ],
 "metadata": {
  "kernelspec": {
   "display_name": "Python 3",
   "language": "python",
   "name": "python3"
  },
  "language_info": {
   "codemirror_mode": {
    "name": "ipython",
    "version": 3
   },
   "file_extension": ".py",
   "mimetype": "text/x-python",
   "name": "python",
   "nbconvert_exporter": "python",
   "pygments_lexer": "ipython3",
   "version": "3.8.3"
  },
  "varInspector": {
   "cols": {
    "lenName": 16,
    "lenType": 16,
    "lenVar": 40
   },
   "kernels_config": {
    "python": {
     "delete_cmd_postfix": "",
     "delete_cmd_prefix": "del ",
     "library": "var_list.py",
     "varRefreshCmd": "print(var_dic_list())"
    },
    "r": {
     "delete_cmd_postfix": ") ",
     "delete_cmd_prefix": "rm(",
     "library": "var_list.r",
     "varRefreshCmd": "cat(var_dic_list()) "
    }
   },
   "types_to_exclude": [
    "module",
    "function",
    "builtin_function_or_method",
    "instance",
    "_Feature"
   ],
   "window_display": false
  }
 },
 "nbformat": 4,
 "nbformat_minor": 5
}